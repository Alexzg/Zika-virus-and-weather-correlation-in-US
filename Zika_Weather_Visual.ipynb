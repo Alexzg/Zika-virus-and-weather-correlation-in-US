{
 "cells": [
  {
   "cell_type": "markdown",
   "metadata": {},
   "source": [
    "# Exercise: Visual - Assignment 4"
   ]
  },
  {
   "cell_type": "markdown",
   "metadata": {
    "collapsed": true
   },
   "source": [
    "## Question: \n",
    "\"What is the correlation between precipitation and the virus Zika over the time period 2015-2017, for a number of states in US (Kansas, California, Montana, Michigan, Georgia)?\""
   ]
  },
  {
   "cell_type": "code",
   "execution_count": null,
   "metadata": {
    "collapsed": false
   },
   "outputs": [],
   "source": [
    "d=open('Details.txt', 'r')\n",
    "print (d.read())"
   ]
  },
  {
   "cell_type": "code",
   "execution_count": null,
   "metadata": {
    "collapsed": false
   },
   "outputs": [],
   "source": [
    "%matplotlib notebook\n",
    "\n",
    "import pandas as pd\n",
    "import matplotlib.pyplot as plt\n",
    "import seaborn as sns"
   ]
  },
  {
   "cell_type": "code",
   "execution_count": null,
   "metadata": {
    "collapsed": false
   },
   "outputs": [],
   "source": [
    "def read_weather():\n",
    "    temp_data = pd.DataFrame() #Clear temp_data\n",
    "    file_list = ['kansas.csv', 'california.csv', 'montana.csv', 'michigan.csv', 'georgia.csv']\n",
    "    _dict = {4:'California', 9:'Georgia', 20:'Michigan', 14:'Kansas', 24:'Montana'}\n",
    "    _list=[]\n",
    "    for files in file_list:\n",
    "        temp_data=pd.read_csv(files, delimiter=',') #Read weather data\n",
    "        temp_data['StateCode']=temp_data['StateCode'].map(_dict) #Replace state_codes to state_names\n",
    "        temp_data.set_index('StateCode', inplace=True)\n",
    "        temp_data.index.rename('States', inplace=True)\n",
    "        _list.append(temp_data)\n",
    "    temp_data = pd.concat(_list)\n",
    "    temp_data = temp_data[['YearMonth', 'PCP']] #Keep significant weather data\n",
    "    temp_data.rename(columns={'PCP':'Precipitation', 'YearMonth':'Year'}, inplace=True)\n",
    "    #Format 'Year' values into string, keep only year\n",
    "    temp_data['Year'] = temp_data['Year'].astype(str).apply(lambda x: (x[:4]))\n",
    "    #Keep max & min for each state & year\n",
    "    temp_data = temp_data.groupby([temp_data.index,'Year'])['Precipitation'].agg(['max','min']) \n",
    "    temp_data.rename(columns={'min':'Precipitation_min', 'max':'Precipitation_max'}, inplace=True)\n",
    "    return \n",
    "\n",
    "def read_virus():\n",
    "    temp_data = pd.DataFrame() #Clear temp_data\n",
    "    file_list = ['Zika 2015.xlsx', 'Zika 2016.xlsx', 'Zika 2017.xlsx']\n",
    "    list_states = ['Georgia', 'California', 'Montana', 'Michigan', 'Kansas']\n",
    "    _list=[]\n",
    "    for files in file_list:\n",
    "        temp_data = pd.read_excel(files, header=3) #Read weather data\n",
    "        temp_data = temp_data[['States','No.','No..1']]\n",
    "        temp_data['Year'] = files[5:9]\n",
    "        temp_data['Cases'] = temp_data['No.'] + temp_data['No..1'] #Add cases\n",
    "        temp_data.drop(['No.','No..1'],axis=1, inplace=True) \n",
    "        temp_data = temp_data.loc[temp_data['States'].isin(list_states)] #Keep only States in list\n",
    "        temp_data.set_index('States', inplace=True)\n",
    "        _list.append(temp_data)\n",
    "    temp_data = pd.concat(_list)\n",
    "    #Function is needed (eg. sum) as to convert groupby object to DataFrame again\n",
    "    temp_data = temp_data.groupby([temp_data.index, 'Year'])[['Cases']].sum() \n",
    "    return \n",
    "\n",
    "def visual():\n",
    "    #Categorize case number, necessary for best illustration in legend\n",
    "    df['Cases_category'] = pd.cut(df['Cases'], bins=[0, 100, 200, 300, 400, 500], include_lowest=True)\n",
    "    df.reset_index(inplace=True) #So that the seaborn can handle data easily\n",
    "    sns.set_style('white')\n",
    "    fg1 = sns.factorplot('Year', y='Precipitation_max', hue='Cases_category' , \n",
    "                        col='States', col_wrap=3, data=df, kind='strip', size=3, aspect=1,\n",
    "                        palette='Reds', legend=False, sharex=False, sharey=False);\n",
    "    fg1.set_axis_labels('Year', 'Maximum Precipitation').set(ylim=(0, 10)).set_titles('{col_name}');\n",
    "    plt.legend(title='Zika Cases \\n(Categorized by total number)', bbox_to_anchor=(1.1, 1), loc=2);\n",
    "    plt.savefig('fg1.png');\n",
    "    return \n",
    "\n",
    "data_w = read_weather()\n",
    "data_v = read_virus()\n",
    "\n",
    "df = pd.DataFrame()\n",
    "df = pd.merge(data_w, data_v, left_index=True, right_index=True)\n",
    "\n",
    "visual()"
   ]
  },
  {
   "cell_type": "code",
   "execution_count": null,
   "metadata": {
    "collapsed": true
   },
   "outputs": [],
   "source": []
  }
 ],
 "metadata": {
  "kernelspec": {
   "display_name": "Python 3",
   "language": "python",
   "name": "python3"
  },
  "language_info": {
   "codemirror_mode": {
    "name": "ipython",
    "version": 3
   },
   "file_extension": ".py",
   "mimetype": "text/x-python",
   "name": "python",
   "nbconvert_exporter": "python",
   "pygments_lexer": "ipython3",
   "version": "3.5.2"
  }
 },
 "nbformat": 4,
 "nbformat_minor": 1
}
